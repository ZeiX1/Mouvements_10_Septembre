{
 "cells": [
  {
   "cell_type": "code",
   "execution_count": 4,
   "id": "6920bcaf-ee52-4417-be82-b65fd07c15aa",
   "metadata": {},
   "outputs": [],
   "source": [
    "import pandas as pd\n",
    "import os \n",
    "import nltk\n"
   ]
  },
  {
   "cell_type": "markdown",
   "id": "9e955d39-9709-42a9-8d15-64102a30326c",
   "metadata": {},
   "source": [
    "## Fonctions importantes pour le nettoyage "
   ]
  },
  {
   "cell_type": "code",
   "execution_count": 1,
   "id": "f5a514ab-120d-4a5c-9883-8ceaa477f56d",
   "metadata": {},
   "outputs": [],
   "source": [
    "import re\n",
    "\n",
    "def clean_text(text):\n",
    "    if pd.isna(text):\n",
    "        return \"\"\n",
    "    text = text.lower()\n",
    "    text = re.sub(r\"http\\S+|www\\S+|https\\S+\", \" \", text)  # enlever URLs\n",
    "    text = re.sub(r\"[^a-zA-Zàâçéèêëîïôûùüÿñæœ\\s]\", \" \", text)  # enlever ponctuation/chiffres\n",
    "    return text"
   ]
  },
  {
   "cell_type": "markdown",
   "id": "e70a99a1-761f-4d97-bb0d-35688a83b310",
   "metadata": {},
   "source": [
    "### Fonction qui suppriment les stopwords"
   ]
  },
  {
   "cell_type": "code",
   "execution_count": 2,
   "id": "f2703cae-f539-49d2-93ac-2d0c8c919fd8",
   "metadata": {},
   "outputs": [
    {
     "name": "stderr",
     "output_type": "stream",
     "text": [
      "[nltk_data] Downloading package stopwords to\n",
      "[nltk_data]     C:\\Users\\Admin\\AppData\\Roaming\\nltk_data...\n",
      "[nltk_data]   Package stopwords is already up-to-date!\n"
     ]
    }
   ],
   "source": [
    "import nltk\n",
    "from nltk.corpus import stopwords\n",
    "\n",
    "nltk.download('stopwords')\n",
    "x = [\n",
    "    \"abord\",\"plus\",\"faire\",\"quand\",\"juste\",\"ce\",\"soir\",\"salut\",\"rien\",\"merci\",\"enfin\", \"afin\", \"ah\", \"aie\", \"ainsi\", \"allo\", \"allô\", \"alors\", \"après\", \"assez\", \"attendu\", \"aucun\", \"aucune\", \"aucuns\",\n",
    "    \"aujourd\", \"aujourd'hui\", \"auquel\", \"aura\", \"auront\", \"aussi\", \"autre\", \"autres\", \"aux\", \"auxquelles\", \"auxquels\", \"avaient\",\n",
    "    \"avais\", \"avait\", \"avant\", \"avec\", \"avoir\", \"avons\", \"ayant\", \"bah\", \"bas\", \"beaucoup\", \"bien\", \"c\", \"c'est\", \"ça\", \"car\",\n",
    "    \"ce\", \"ceci\", \"cela\", \"ces\", \"cet\",\"peut\", \"cette\", \"ceux\", \"ceux-ci\", \"ceux-là\", \"chaque\", \"chez\", \"chose\", \"ci\", \"comme\", \"comment\",\n",
    "    \"contre\", \"couic\", \"d\", \"dans\", \"de\", \"debout\", \"dedans\", \"dehors\", \"def\", \"depuis\", \"derrière\", \"des\", \"désormais\", \"desquelles\",\n",
    "    \"desquels\", \"dessous\", \"dessus\", \"deux\", \"deuxième\", \"devant\", \"devers\", \"devra\", \"devront\", \"difficile\", \"dire\", \"dit\", \"dite\",\n",
    "    \"dits\", \"divers\", \"diverse\", \"diverses\", \"doit\", \"doivent\", \"donc\", \"dont\", \"dos\", \"d'autres\", \"du\", \"duquel\", \"duquelles\",\n",
    "    \"duquels\", \"durant\", \"e\", \"eh\", \"elle\", \"elle-même\", \"elles\", \"elles-mêmes\", \"en\", \"encore\", \"entre\", \"envers\", \"environ\",\n",
    "    \"es\", \"est\", \"est-ce\", \"et\", \"etant\", \"etc\", \"étaient\", \"étais\", \"était\", \"étant\", \"être\", \"eu\", \"eue\", \"eues\", \"eux\", \"eux-mêmes\",\n",
    "    \"excepté\", \"existe\", \"existe-t-il\", \"f\", \"faut\", \"faut-il\", \"femme\", \"femmes\", \"feront\", \"fête\", \"fêtes\", \"fin\", \"fini\", \"finir\", \"finit\",\n",
    "    \"finitive\", \"finitives\", \"fois\", \"font\", \"forcément\", \"fort\", \"forte\", \"fortes\", \"forts\", \"fou\", \"fouiller\", \"fouillé\", \"fouillée\",\n",
    "    \"fouillés\", \"fous\", \"fut\", \"sans\",\"peux\",\"peut\",\"peu\",\"matin\",\"toutes\",\"mettre\",\"jour\",\"tout\",\"tous\",\"ta\",\"bonjour\",\"gens\",\"moi\",\"la\", \"fait\",\"fut-ce\", \"fut-il\", \"fut-elle\", \"fut-on\", \"fut-ils\",\"si\",\"ici\",\"où\",\"là\",\"très\",\"parce\",\"va\",\"ca\",\"oui\",\"non\",\"tout\",\"toute\"\n",
    "] + list(\"abcdefghijklmnopqrstuvwxyz\") \n",
    "stop_words = set(stopwords.words('french'))\n",
    "stop_words = stop_words | set(x)\n",
    "def remove_stopwords(text):\n",
    "    words = text.split()\n",
    "    words_clean = [w for w in words if w.lower() not in stop_words]\n",
    "    return \" \".join(words_clean)"
   ]
  },
  {
   "cell_type": "markdown",
   "id": "4592d2e4-1474-408c-80f6-f9d8c869963a",
   "metadata": {},
   "source": [
    " ### Load Datasets"
   ]
  },
  {
   "cell_type": "code",
   "execution_count": 50,
   "id": "3d71b49b",
   "metadata": {},
   "outputs": [
    {
     "name": "stdout",
     "output_type": "stream",
     "text": [
      "Fichier fusionné sauvegardé : merged_messages1\\messages_Saint_Malo.csv\n",
      "Fichier fusionné sauvegardé : merged_messages1\\messages_Lyon.csv\n",
      "Fichier fusionné sauvegardé : merged_messages1\\messages_15__Cantal.csv\n",
      "Fichier fusionné sauvegardé : merged_messages1\\messages_23__Creuse.csv\n",
      "Fichier fusionné sauvegardé : merged_messages1\\messages_PAYS_DE_LA_LOIRE.csv\n",
      "Fichier fusionné sauvegardé : merged_messages1\\messages_Bayeux.csv\n",
      "Fichier fusionné sauvegardé : merged_messages1\\messages_68__HautRhin.csv\n",
      "Fichier fusionné sauvegardé : merged_messages1\\messages_AUVERGNERHNEALPES.csv\n",
      "Fichier fusionné sauvegardé : merged_messages1\\messages_Autun.csv\n",
      "Fichier fusionné sauvegardé : merged_messages1\\messages_24__Dordogne.csv\n",
      "Fichier fusionné sauvegardé : merged_messages1\\messages_Metz.csv\n",
      "Fichier fusionné sauvegardé : merged_messages1\\messages_69__Rhne.csv\n",
      "Fichier fusionné sauvegardé : merged_messages1\\messages_Ancenis.csv\n",
      "Fichier fusionné sauvegardé : merged_messages1\\messages_BOURGOGNEFRANCHECOMTE.csv\n",
      "Fichier fusionné sauvegardé : merged_messages1\\messages_74__HauteSavoie.csv\n",
      "Fichier fusionné sauvegardé : merged_messages1\\messages_Louhans.csv\n",
      "Fichier fusionné sauvegardé : merged_messages1\\messages_Saint_Nazaire.csv\n",
      "Fichier fusionné sauvegardé : merged_messages1\\messages_Nantes_Nord.csv\n",
      "Fichier fusionné sauvegardé : merged_messages1\\messages_LEDEFRANCE.csv\n",
      "Fichier fusionné sauvegardé : merged_messages1\\messages_87__HauteVienne.csv\n",
      "Fichier fusionné sauvegardé : merged_messages1\\messages_Grenoble.csv\n",
      "Fichier fusionné sauvegardé : merged_messages1\\messages_Pays_dAvallon.csv\n",
      "Fichier fusionné sauvegardé : merged_messages1\\messages_42__Loire.csv\n",
      "Fichier fusionné sauvegardé : merged_messages1\\messages_Nantes_sud_Loire.csv\n",
      "Fichier fusionné sauvegardé : merged_messages1\\messages_38__Isre.csv\n",
      "Fichier fusionné sauvegardé : merged_messages1\\messages_BRETAGNE.csv\n",
      "Fichier fusionné sauvegardé : merged_messages1\\messages_PROVENCEALPESCTE_D8217AZUR.csv\n",
      "Fichier fusionné sauvegardé : merged_messages1\\messages_Bocage_virois.csv\n",
      "Fichier fusionné sauvegardé : merged_messages1\\messages_Reims.csv\n",
      "Fichier fusionné sauvegardé : merged_messages1\\messages_SalondeProvence.csv\n",
      "Fichier fusionné sauvegardé : merged_messages1\\messages_41__LoiretCher.csv\n",
      "Fichier fusionné sauvegardé : merged_messages1\\messages_73__Savoie.csv\n",
      "Fichier fusionné sauvegardé : merged_messages1\\messages_L8217Arbresle.csv\n",
      "Fichier fusionné sauvegardé : merged_messages1\\messages_26__Drme.csv\n",
      "Fichier fusionné sauvegardé : merged_messages1\\messages_33__Gironde.csv\n",
      "Fichier fusionné sauvegardé : merged_messages1\\messages_Carquefou.csv\n",
      "Fichier fusionné sauvegardé : merged_messages1\\messages_Rouen.csv\n",
      "Fichier fusionné sauvegardé : merged_messages1\\messages_63__PuydeDme.csv\n",
      "Fichier fusionné sauvegardé : merged_messages1\\messages_Belgique.csv\n",
      "Fichier fusionné sauvegardé : merged_messages1\\messages_Dublin.csv\n",
      "Fichier fusionné sauvegardé : merged_messages1\\messages_43__HauteLoire.csv\n",
      "Fichier fusionné sauvegardé : merged_messages1\\messages_GRAND_EST.csv\n",
      "Fichier fusionné sauvegardé : merged_messages1\\messages_Tournus.csv\n",
      "Fichier fusionné sauvegardé : merged_messages1\\messages_88__Vosges.csv\n",
      "Fichier fusionné sauvegardé : merged_messages1\\messages_NOUVELLEAQUITAINE.csv\n"
     ]
    }
   ],
   "source": [
    "import os\n",
    "import pandas as pd\n",
    "\n",
    "folder1 = \"scraped_messages_1509/\"\n",
    "folder2 = \"scraped_messages_1809/\"\n",
    "output_folder = \"merged_messages1\"\n",
    "\n",
    "os.makedirs(output_folder, exist_ok=True)\n",
    "\n",
    "# Lister tous les fichiers CSV dans chaque dossier\n",
    "files1 = set(f for f in os.listdir(folder1) if f.endswith(\".csv\"))\n",
    "files2 = set(f for f in os.listdir(folder2) if f.endswith(\".csv\"))\n",
    "\n",
    "# Intersection pour fichiers présents dans les deux dossiers\n",
    "common_files = files1.intersection(files2)\n",
    "\n",
    "for filename in common_files:\n",
    "    file1 = os.path.join(folder1, filename)\n",
    "    file2 = os.path.join(folder2, filename)\n",
    "\n",
    "    df1 = pd.read_csv(file1)\n",
    "    df2 = pd.read_csv(file2)\n",
    "\n",
    "    merged = pd.concat([df1, df2], ignore_index=True)\n",
    "    merged = merged.drop_duplicates(subset=[\"message_id\", \"date\"])\n",
    "    merged = merged.sort_values(by=\"date\")\n",
    "\n",
    "    output_file = os.path.join(output_folder, filename)\n",
    "    merged.to_csv(output_file, index=False)\n",
    "    print(f\"Fichier fusionné sauvegardé : {output_file}\")\n"
   ]
  },
  {
   "cell_type": "code",
   "execution_count": 51,
   "id": "ced245bf",
   "metadata": {},
   "outputs": [
    {
     "name": "stdout",
     "output_type": "stream",
     "text": [
      "Fichier fusionné sauvegardé : merged_messages2\\messages_Valenciennes.csv\n",
      "Fichier fusionné sauvegardé : merged_messages2\\messages_Lyon.csv\n",
      "Fichier fusionné sauvegardé : merged_messages2\\messages_Alençon.csv\n",
      "Fichier fusionné sauvegardé : merged_messages2\\messages_Mâcon__Cluny__Charolles.csv\n",
      "Fichier fusionné sauvegardé : merged_messages2\\messages_15__Cantal.csv\n",
      "Fichier fusionné sauvegardé : merged_messages2\\messages_23__Creuse.csv\n",
      "Fichier fusionné sauvegardé : merged_messages2\\messages_PAYS_DE_LA_LOIRE.csv\n",
      "Fichier fusionné sauvegardé : merged_messages2\\messages_Bayeux.csv\n",
      "Fichier fusionné sauvegardé : merged_messages2\\messages_Chalon__Creusot__Montceau.csv\n",
      "Fichier fusionné sauvegardé : merged_messages2\\messages_Villeurbanne.csv\n",
      "Fichier fusionné sauvegardé : merged_messages2\\messages_Metz.csv\n",
      "Fichier fusionné sauvegardé : merged_messages2\\messages_Ancenis.csv\n",
      "Fichier fusionné sauvegardé : merged_messages2\\messages_Mazamet.csv\n",
      "Fichier fusionné sauvegardé : merged_messages2\\messages_29__Finistre.csv\n",
      "Fichier fusionné sauvegardé : merged_messages2\\messages_CentreVal_de_Loire.csv\n",
      "Fichier fusionné sauvegardé : merged_messages2\\messages_Clisson__ValletleLoroux__Vertou.csv\n",
      "Fichier fusionné sauvegardé : merged_messages2\\messages_94__ValdeMarne.csv\n",
      "Fichier fusionné sauvegardé : merged_messages2\\messages_LEDEFRANCE.csv\n",
      "Fichier fusionné sauvegardé : merged_messages2\\messages_Tours.csv\n",
      "Fichier fusionné sauvegardé : merged_messages2\\messages_53__Mayenne.csv\n",
      "Fichier fusionné sauvegardé : merged_messages2\\messages_CENTREVAL_DE_LOIRE.csv\n",
      "Fichier fusionné sauvegardé : merged_messages2\\messages_78__Yvelines.csv\n",
      "Fichier fusionné sauvegardé : merged_messages2\\messages_Châteaubriant_Nozay_Blain_Derval.csv\n",
      "Fichier fusionné sauvegardé : merged_messages2\\messages_Nantes_sud_Loire.csv\n",
      "Fichier fusionné sauvegardé : merged_messages2\\messages_86__Vienne.csv\n",
      "Fichier fusionné sauvegardé : merged_messages2\\messages_12__Aveyron.csv\n",
      "Fichier fusionné sauvegardé : merged_messages2\\messages_Malakoff_SaintDonatien.csv\n",
      "Fichier fusionné sauvegardé : merged_messages2\\messages_Gatinais_Montargis.csv\n",
      "Fichier fusionné sauvegardé : merged_messages2\\messages_67__BasRhin.csv\n",
      "Fichier fusionné sauvegardé : merged_messages2\\messages_03__Allier.csv\n",
      "Fichier fusionné sauvegardé : merged_messages2\\messages_Castres.csv\n",
      "Fichier fusionné sauvegardé : merged_messages2\\messages_89__Yonne.csv\n",
      "Fichier fusionné sauvegardé : merged_messages2\\messages_Paris_20e.csv\n",
      "Fichier fusionné sauvegardé : merged_messages2\\messages_71__SaneetLoire.csv\n",
      "Fichier fusionné sauvegardé : merged_messages2\\messages_Cognac.csv\n",
      "Fichier fusionné sauvegardé : merged_messages2\\messages_Sud_Manche.csv\n",
      "Fichier fusionné sauvegardé : merged_messages2\\messages_26__Drme.csv\n",
      "Fichier fusionné sauvegardé : merged_messages2\\messages_Versailles.csv\n",
      "Fichier fusionné sauvegardé : merged_messages2\\messages_Tournus.csv\n",
      "Fichier fusionné sauvegardé : merged_messages2\\messages_Mâcon_Cluny_Charolles.csv\n",
      "Fichier fusionné sauvegardé : merged_messages2\\messages_vreux.csv\n",
      "Fichier fusionné sauvegardé : merged_messages2\\messages_88__Vosges.csv\n",
      "Fichier fusionné sauvegardé : merged_messages2\\messages_83__Var.csv\n",
      "Fichier fusionné sauvegardé : merged_messages2\\messages_BourgogneFrancheComté.csv\n",
      "Fichier fusionné sauvegardé : merged_messages2\\messages_77__SeineetMarne.csv\n",
      "Fichier fusionné sauvegardé : merged_messages2\\messages_Amplepuis.csv\n",
      "Fichier fusionné sauvegardé : merged_messages2\\messages_85__VendǸe.csv\n",
      "Fichier fusionné sauvegardé : merged_messages2\\messages_Vendôme.csv\n",
      "Fichier fusionné sauvegardé : merged_messages2\\messages_Beauvais.csv\n",
      "Fichier fusionné sauvegardé : merged_messages2\\messages_Doldebretagne.csv\n",
      "Fichier fusionné sauvegardé : merged_messages2\\messages_ValdeLoire_Sologne.csv\n",
      "Fichier fusionné sauvegardé : merged_messages2\\messages_Compiègne.csv\n",
      "Fichier fusionné sauvegardé : merged_messages2\\messages_91__Essonne.csv\n",
      "Fichier fusionné sauvegardé : merged_messages2\\messages_Pays_haut_Nord_54.csv\n",
      "Fichier fusionné sauvegardé : merged_messages2\\messages_Hautecorrèze.csv\n",
      "Fichier fusionné sauvegardé : merged_messages2\\messages_90__Territoire_de_Belfort.csv\n",
      "Fichier fusionné sauvegardé : merged_messages2\\messages_87__HauteVienne.csv\n",
      "Fichier fusionné sauvegardé : merged_messages2\\messages_Grenoble.csv\n",
      "Fichier fusionné sauvegardé : merged_messages2\\messages_42__Loire.csv\n",
      "Fichier fusionné sauvegardé : merged_messages2\\messages_Carmaux.csv\n",
      "Fichier fusionné sauvegardé : merged_messages2\\messages_Lodévois.csv\n",
      "Fichier fusionné sauvegardé : merged_messages2\\messages_38__Isre.csv\n",
      "Fichier fusionné sauvegardé : merged_messages2\\messages_Montceau__Le_Creusot.csv\n",
      "Fichier fusionné sauvegardé : merged_messages2\\messages_MARTINIQUE.csv\n",
      "Fichier fusionné sauvegardé : merged_messages2\\messages_PloǮrmel.csv\n",
      "Fichier fusionné sauvegardé : merged_messages2\\messages_Albi.csv\n",
      "Fichier fusionné sauvegardé : merged_messages2\\messages_01__Ain.csv\n",
      "Fichier fusionné sauvegardé : merged_messages2\\messages_Bordeaux__NouvelleAquitaine.csv\n",
      "Fichier fusionné sauvegardé : merged_messages2\\messages_Reims.csv\n",
      "Fichier fusionné sauvegardé : merged_messages2\\messages_Quimperlé.csv\n",
      "Fichier fusionné sauvegardé : merged_messages2\\messages_Luçon.csv\n",
      "Fichier fusionné sauvegardé : merged_messages2\\messages_Strasbourg.csv\n",
      "Fichier fusionné sauvegardé : merged_messages2\\messages_Caen.csv\n",
      "Fichier fusionné sauvegardé : merged_messages2\\messages_Drancy__Bobigny__Le_Blanc_Mesnil__Le_Bourget.csv\n",
      "Fichier fusionné sauvegardé : merged_messages2\\messages_Rouen.csv\n",
      "Fichier fusionné sauvegardé : merged_messages2\\messages_63__PuydeDme.csv\n",
      "Fichier fusionné sauvegardé : merged_messages2\\messages_ChalonsurSaône.csv\n",
      "Fichier fusionné sauvegardé : merged_messages2\\messages_Saverne.csv\n",
      "Fichier fusionné sauvegardé : merged_messages2\\messages_Dublin.csv\n",
      "Fichier fusionné sauvegardé : merged_messages2\\messages_43__HauteLoire.csv\n",
      "Fichier fusionné sauvegardé : merged_messages2\\messages_49__MaineetLoire.csv\n",
      "Fichier fusionné sauvegardé : merged_messages2\\messages_SaintAvold.csv\n",
      "Fichier fusionné sauvegardé : merged_messages2\\messages_LArbresle.csv\n",
      "Fichier fusionné sauvegardé : merged_messages2\\messages_L8217Île_de_Nantes.csv\n",
      "Fichier fusionné sauvegardé : merged_messages2\\messages_Saint_Malo.csv\n",
      "Fichier fusionné sauvegardé : merged_messages2\\messages_06__AlpesMaritimes.csv\n",
      "Fichier fusionné sauvegardé : merged_messages2\\messages_Gaillac.csv\n",
      "Fichier fusionné sauvegardé : merged_messages2\\messages_52__HauteMarne.csv\n",
      "Fichier fusionné sauvegardé : merged_messages2\\messages_LaChapellesurErdre.csv\n",
      "Fichier fusionné sauvegardé : merged_messages2\\messages_Thionville.csv\n",
      "Fichier fusionné sauvegardé : merged_messages2\\messages_Aubagne.csv\n",
      "Fichier fusionné sauvegardé : merged_messages2\\messages_VillefranchesurSaône.csv\n",
      "Fichier fusionné sauvegardé : merged_messages2\\messages_Le_Faouët.csv\n",
      "Fichier fusionné sauvegardé : merged_messages2\\messages_Manosque.csv\n",
      "Fichier fusionné sauvegardé : merged_messages2\\messages_Village_Graslin.csv\n",
      "Fichier fusionné sauvegardé : merged_messages2\\messages_68__HautRhin.csv\n",
      "Fichier fusionné sauvegardé : merged_messages2\\messages_72__Sarthe.csv\n",
      "Fichier fusionné sauvegardé : merged_messages2\\messages_58__Nivre.csv\n",
      "Fichier fusionné sauvegardé : merged_messages2\\messages_Autun.csv\n",
      "Fichier fusionné sauvegardé : merged_messages2\\messages_24__Dordogne.csv\n",
      "Fichier fusionné sauvegardé : merged_messages2\\messages_Tarare.csv\n",
      "Fichier fusionné sauvegardé : merged_messages2\\messages_Malakoff_Saint_Donatien.csv\n",
      "Fichier fusionné sauvegardé : merged_messages2\\messages_BOURGOGNEFRANCHECOMTE.csv\n",
      "Fichier fusionné sauvegardé : merged_messages2\\messages_74__HauteSavoie.csv\n",
      "Fichier fusionné sauvegardé : merged_messages2\\messages_N10__Rambouillet__SaintQuentinenYvelines.csv\n",
      "Fichier fusionné sauvegardé : merged_messages2\\messages_Bordeaux.csv\n",
      "Fichier fusionné sauvegardé : merged_messages2\\messages_Yvelines_Nord__Acheres_Poissy_Saint_Germain.csv\n",
      "Fichier fusionné sauvegardé : merged_messages2\\messages_Troyes.csv\n",
      "Fichier fusionné sauvegardé : merged_messages2\\messages_Aubusson.csv\n",
      "Fichier fusionné sauvegardé : merged_messages2\\messages_Vienne.csv\n",
      "Fichier fusionné sauvegardé : merged_messages2\\messages_92__HautsdeSeine.csv\n",
      "Fichier fusionné sauvegardé : merged_messages2\\messages_Malakoff_St_donatien.csv\n"
     ]
    },
    {
     "name": "stdout",
     "output_type": "stream",
     "text": [
      "Fichier fusionné sauvegardé : merged_messages2\\messages_EstLyonnais_Bron_SaintPriest_VǸnissieux_DǸcines_Chassieu.csv\n",
      "Fichier fusionné sauvegardé : merged_messages2\\messages_Marseille_Est.csv\n",
      "Fichier fusionné sauvegardé : merged_messages2\\messages_Haut_béarn.csv\n",
      "Fichier fusionné sauvegardé : merged_messages2\\messages_Nantes_Agglomération.csv\n",
      "Fichier fusionné sauvegardé : merged_messages2\\messages_25__Doubs.csv\n",
      "Fichier fusionné sauvegardé : merged_messages2\\messages_Mǽcon__Cluny__Charolles.csv\n",
      "Fichier fusionné sauvegardé : merged_messages2\\messages_La_rochesurYon.csv\n",
      "Fichier fusionné sauvegardé : merged_messages2\\messages_45__Loiret.csv\n",
      "Fichier fusionné sauvegardé : merged_messages2\\messages_Bocage_virois.csv\n",
      "Fichier fusionné sauvegardé : merged_messages2\\messages_Normandie.csv\n",
      "Fichier fusionné sauvegardé : merged_messages2\\messages_41__LoiretCher.csv\n",
      "Fichier fusionné sauvegardé : merged_messages2\\messages_73__Savoie.csv\n",
      "Fichier fusionné sauvegardé : merged_messages2\\messages_L8217le_de_Nantes.csv\n",
      "Fichier fusionné sauvegardé : merged_messages2\\messages_Angoulème.csv\n",
      "Fichier fusionné sauvegardé : merged_messages2\\messages_Carquefou.csv\n",
      "Fichier fusionné sauvegardé : merged_messages2\\messages_Saintlô.csv\n",
      "Fichier fusionné sauvegardé : merged_messages2\\messages_Belgique.csv\n",
      "Fichier fusionné sauvegardé : merged_messages2\\messages_Rezé.csv\n",
      "Fichier fusionné sauvegardé : merged_messages2\\messages_AuvergneRhôneAlpes.csv\n",
      "Fichier fusionné sauvegardé : merged_messages2\\messages_GRAND_EST.csv\n",
      "Fichier fusionné sauvegardé : merged_messages2\\messages_Cannes_Nice_Antibes_Grasse_Menton.csv\n",
      "Fichier fusionné sauvegardé : merged_messages2\\messages_60__Oise.csv\n",
      "Fichier fusionné sauvegardé : merged_messages2\\messages_Graulhet.csv\n",
      "Fichier fusionné sauvegardé : merged_messages2\\messages_VaulxenVelin.csv\n",
      "Fichier fusionné sauvegardé : merged_messages2\\messages_75__Paris.csv\n",
      "Fichier fusionné sauvegardé : merged_messages2\\messages_HautsdeFrance.csv\n",
      "Fichier fusionné sauvegardé : merged_messages2\\messages_Le_Blanc.csv\n",
      "Fichier fusionné sauvegardé : merged_messages2\\messages_AUVERGNERHNEALPES.csv\n",
      "Fichier fusionné sauvegardé : merged_messages2\\messages_69__Rhne.csv\n",
      "Fichier fusionné sauvegardé : merged_messages2\\messages_SaintHerblain.csv\n",
      "Fichier fusionné sauvegardé : merged_messages2\\messages_Saint_Nazaire.csv\n",
      "Fichier fusionné sauvegardé : merged_messages2\\messages_Yvelines_Est.csv\n",
      "Fichier fusionné sauvegardé : merged_messages2\\messages_Louhans.csv\n",
      "Fichier fusionné sauvegardé : merged_messages2\\messages_SaintQuentinenYvelines_Rambouillet.csv\n",
      "Fichier fusionné sauvegardé : merged_messages2\\messages_Nantes_Nord.csv\n",
      "Fichier fusionné sauvegardé : merged_messages2\\messages_Haut_bǸarn.csv\n",
      "Fichier fusionné sauvegardé : merged_messages2\\messages_Marseille.csv\n",
      "Fichier fusionné sauvegardé : merged_messages2\\messages_MantesDreuxEvreux.csv\n",
      "Fichier fusionné sauvegardé : merged_messages2\\messages_Pays_dAvallon.csv\n",
      "Fichier fusionné sauvegardé : merged_messages2\\messages_93__SeineSaintDenis.csv\n",
      "Fichier fusionné sauvegardé : merged_messages2\\messages_Reze.csv\n",
      "Fichier fusionné sauvegardé : merged_messages2\\messages_Angoulme.csv\n",
      "Fichier fusionné sauvegardé : merged_messages2\\messages_BRETAGNE.csv\n",
      "Fichier fusionné sauvegardé : merged_messages2\\messages_Zone_Conflans.csv\n",
      "Fichier fusionné sauvegardé : merged_messages2\\messages_Dieppe.csv\n",
      "Fichier fusionné sauvegardé : merged_messages2\\messages_PROVENCEALPESCTE_D8217AZUR.csv\n",
      "Fichier fusionné sauvegardé : merged_messages2\\messages_Vannes.csv\n",
      "Fichier fusionné sauvegardé : merged_messages2\\messages_Nantes_AgglomǸration.csv\n",
      "Fichier fusionné sauvegardé : merged_messages2\\messages_SaintLô.csv\n",
      "Fichier fusionné sauvegardé : merged_messages2\\messages_SalondeProvence.csv\n",
      "Fichier fusionné sauvegardé : merged_messages2\\messages_Montoirsurleloir.csv\n",
      "Fichier fusionné sauvegardé : merged_messages2\\messages_GUYANE.csv\n",
      "Fichier fusionné sauvegardé : merged_messages2\\messages_NORMANDIE.csv\n",
      "Fichier fusionné sauvegardé : merged_messages2\\messages_22__Ctes_d8217Armor.csv\n",
      "Fichier fusionné sauvegardé : merged_messages2\\messages_L8217Arbresle.csv\n",
      "Fichier fusionné sauvegardé : merged_messages2\\messages_04__AlpesdeHauteProvence.csv\n",
      "Fichier fusionné sauvegardé : merged_messages2\\messages_LA_RUNION.csv\n",
      "Fichier fusionné sauvegardé : merged_messages2\\messages_Meisenthal.csv\n",
      "Fichier fusionné sauvegardé : merged_messages2\\messages_33__Gironde.csv\n",
      "Fichier fusionné sauvegardé : merged_messages2\\messages_HAUTSDEFRANCE.csv\n",
      "Fichier fusionné sauvegardé : merged_messages2\\messages_NogentleRotrou.csv\n",
      "Fichier fusionné sauvegardé : merged_messages2\\messages_26__Drôme.csv\n",
      "Fichier fusionné sauvegardé : merged_messages2\\messages_Pays_de_Retz.csv\n",
      "Fichier fusionné sauvegardé : merged_messages2\\messages_NOUVELLEAQUITAINE.csv\n",
      "Fichier fusionné sauvegardé : merged_messages2\\messages_OCCITANIE.csv\n"
     ]
    }
   ],
   "source": [
    "import os\n",
    "import pandas as pd\n",
    "\n",
    "folder1 = \"scraped_messages_1509/\"\n",
    "folder2 = \"scraped_messages_1809/\"\n",
    "output_folder = \"merged_messages2\"\n",
    "\n",
    "os.makedirs(output_folder, exist_ok=True)\n",
    "\n",
    "# Lister tous les fichiers CSV dans chaque dossier\n",
    "files1 = set(f for f in os.listdir(folder1) if f.endswith(\".csv\"))\n",
    "files2 = set(f for f in os.listdir(folder2) if f.endswith(\".csv\"))\n",
    "\n",
    "# Tous les fichiers (union)\n",
    "all_files = files1.union(files2)\n",
    "\n",
    "for filename in all_files:\n",
    "    dfs = []\n",
    "    \n",
    "    # Lire fichier de folder1 si présent\n",
    "    if filename in files1:\n",
    "        df1 = pd.read_csv(os.path.join(folder1, filename))\n",
    "        df1['source_folder'] = folder1  # optionnel, pour savoir d'où vient la ligne\n",
    "        dfs.append(df1)\n",
    "    \n",
    "    # Lire fichier de folder2 si présent\n",
    "    if filename in files2:\n",
    "        df2 = pd.read_csv(os.path.join(folder2, filename))\n",
    "        df2['source_folder'] = folder2  # optionnel\n",
    "        dfs.append(df2)\n",
    "    \n",
    "    # Concaténation et nettoyage\n",
    "    merged = pd.concat(dfs, ignore_index=True)\n",
    "    merged = merged.drop_duplicates(subset=[\"message_id\", \"date\"])\n",
    "    merged = merged.sort_values(by=\"date\")\n",
    "    \n",
    "    # Sauvegarde\n",
    "    output_file = os.path.join(output_folder, filename)\n",
    "    merged.to_csv(output_file, index=False)\n",
    "    print(f\"Fichier fusionné sauvegardé : {output_file}\")\n"
   ]
  },
  {
   "cell_type": "code",
   "execution_count": null,
   "id": "54f662f2",
   "metadata": {},
   "outputs": [],
   "source": [
    "data1 = pd.read_csv(\"\")"
   ]
  },
  {
   "cell_type": "code",
   "execution_count": 4,
   "id": "34c2cd37-bb3a-4186-b6b5-5d464242ee85",
   "metadata": {},
   "outputs": [
    {
     "name": "stdout",
     "output_type": "stream",
     "text": [
      "Fichier fusionné sauvegardé : merged_messages1\\messages_15__Cantal.csv\n",
      "Fichier fusionné sauvegardé : merged_messages1\\messages_23__Creuse.csv\n",
      "Fichier fusionné sauvegardé : merged_messages1\\messages_24__Dordogne.csv\n",
      "Fichier fusionné sauvegardé : merged_messages1\\messages_26__Drme.csv\n",
      "Fichier fusionné sauvegardé : merged_messages1\\messages_33__Gironde.csv\n",
      "Fichier fusionné sauvegardé : merged_messages1\\messages_38__Isre.csv\n",
      "Fichier fusionné sauvegardé : merged_messages1\\messages_41__LoiretCher.csv\n",
      "Fichier fusionné sauvegardé : merged_messages1\\messages_42__Loire.csv\n",
      "Fichier fusionné sauvegardé : merged_messages1\\messages_43__HauteLoire.csv\n",
      "Fichier fusionné sauvegardé : merged_messages1\\messages_63__PuydeDme.csv\n",
      "Fichier fusionné sauvegardé : merged_messages1\\messages_68__HautRhin.csv\n",
      "Fichier fusionné sauvegardé : merged_messages1\\messages_69__Rhne.csv\n",
      "Fichier fusionné sauvegardé : merged_messages1\\messages_73__Savoie.csv\n",
      "Fichier fusionné sauvegardé : merged_messages1\\messages_74__HauteSavoie.csv\n",
      "Fichier fusionné sauvegardé : merged_messages1\\messages_87__HauteVienne.csv\n",
      "Fichier fusionné sauvegardé : merged_messages1\\messages_88__Vosges.csv\n",
      "Fichier fusionné sauvegardé : merged_messages1\\messages_Ancenis.csv\n",
      "Fichier fusionné sauvegardé : merged_messages1\\messages_Autun.csv\n",
      "Fichier fusionné sauvegardé : merged_messages1\\messages_AUVERGNERHNEALPES.csv\n",
      "Fichier fusionné sauvegardé : merged_messages1\\messages_Bayeux.csv\n",
      "Fichier fusionné sauvegardé : merged_messages1\\messages_Belgique.csv\n",
      "Fichier fusionné sauvegardé : merged_messages1\\messages_Bocage_virois.csv\n",
      "Fichier fusionné sauvegardé : merged_messages1\\messages_BOURGOGNEFRANCHECOMTE.csv\n",
      "Fichier fusionné sauvegardé : merged_messages1\\messages_BRETAGNE.csv\n",
      "Fichier fusionné sauvegardé : merged_messages1\\messages_Carquefou.csv\n",
      "Fichier fusionné sauvegardé : merged_messages1\\messages_Dublin.csv\n",
      "Fichier fusionné sauvegardé : merged_messages1\\messages_GRAND_EST.csv\n",
      "Fichier fusionné sauvegardé : merged_messages1\\messages_Grenoble.csv\n",
      "Fichier fusionné sauvegardé : merged_messages1\\messages_L8217Arbresle.csv\n",
      "Fichier fusionné sauvegardé : merged_messages1\\messages_LEDEFRANCE.csv\n",
      "Fichier fusionné sauvegardé : merged_messages1\\messages_Louhans.csv\n",
      "Fichier fusionné sauvegardé : merged_messages1\\messages_Lyon.csv\n",
      "Fichier fusionné sauvegardé : merged_messages1\\messages_Metz.csv\n",
      "Fichier fusionné sauvegardé : merged_messages1\\messages_Nantes_Nord.csv\n",
      "Fichier fusionné sauvegardé : merged_messages1\\messages_Nantes_sud_Loire.csv\n",
      "Fichier fusionné sauvegardé : merged_messages1\\messages_NOUVELLEAQUITAINE.csv\n",
      "Fichier fusionné sauvegardé : merged_messages1\\messages_Pays_dAvallon.csv\n",
      "Fichier fusionné sauvegardé : merged_messages1\\messages_PAYS_DE_LA_LOIRE.csv\n",
      "Fichier fusionné sauvegardé : merged_messages1\\messages_PROVENCEALPESCTE_D8217AZUR.csv\n",
      "Fichier fusionné sauvegardé : merged_messages1\\messages_Reims.csv\n",
      "Fichier fusionné sauvegardé : merged_messages1\\messages_Rouen.csv\n",
      "Fichier fusionné sauvegardé : merged_messages1\\messages_Saint_Malo.csv\n",
      "Fichier fusionné sauvegardé : merged_messages1\\messages_Saint_Nazaire.csv\n",
      "Fichier fusionné sauvegardé : merged_messages1\\messages_SalondeProvence.csv\n",
      "Fichier fusionné sauvegardé : merged_messages1\\messages_Tournus.csv\n"
     ]
    }
   ],
   "source": [
    "\n",
    "# chemins vers dossiers, à modifier en fonction de l'environnement de travail\n",
    "folder1 = \"scraped_messages_1509/\"\n",
    "folder2 = \"scraped_messages_1809/\"\n",
    "output_folder = \"merged_messages1\"\n",
    "\n",
    "os.makedirs(output_folder, exist_ok=True)\n",
    "\n",
    "# on récupère la liste des fichiers CSV du premier dossier\n",
    "for filename in os.listdir(folder1):\n",
    "    if filename.endswith(\".csv\") and filename in os.listdir(folder2):\n",
    "        file1 = os.path.join(folder1, filename)\n",
    "        file2 = os.path.join(folder2, filename)\n",
    "\n",
    "        df1 = pd.read_csv(file1)\n",
    "        df2 = pd.read_csv(file2)\n",
    "\n",
    "        merged = pd.concat([df1, df2], ignore_index=True)\n",
    "        # suppression des doublons sur message_id & date\n",
    "        merged = merged.drop_duplicates(subset=[\"message_id\", \"date\"])\n",
    "        merged = merged.sort_values(by = \"date\")\n",
    "\n",
    "        output_file = os.path.join(output_folder, filename)\n",
    "        merged.to_csv(output_file, index=False)\n",
    "        print(f\"Fichier fusionné sauvegardé : {output_file}\")"
   ]
  },
  {
   "cell_type": "code",
   "execution_count": 52,
   "id": "e10b0eff",
   "metadata": {},
   "outputs": [
    {
     "name": "stdout",
     "output_type": "stream",
     "text": [
      "les fichiers ont été fusionnés dans :all_merged_messages.csv\n"
     ]
    }
   ],
   "source": [
    "input_folder = \"merged_messages2/\"\n",
    "output_file = \"all_merged_messages.csv\"\n",
    "csv_files = [f for f in os.listdir(input_folder) if f.endswith(\".csv\")]\n",
    "\n",
    "dfs = []\n",
    "for file in csv_files:\n",
    "    path = os.path.join(input_folder,file)\n",
    "    df = pd.read_csv(path)\n",
    "    dfs.append(df)\n",
    "final_merged = pd.concat(dfs,ignore_index = True)\n",
    "final_merged = final_merged.sort_values(by=\"date\")\n",
    "final_merged.to_csv(output_file,index =False)\n",
    "print(f\"les fichiers ont été fusionnés dans :{output_file}\")"
   ]
  },
  {
   "cell_type": "code",
   "execution_count": 5,
   "id": "f0dc0540",
   "metadata": {},
   "outputs": [],
   "source": [
    "data = pd.read_csv(\"all_merged_messages.csv\")"
   ]
  },
  {
   "cell_type": "code",
   "execution_count": 103,
   "id": "5c7e7692",
   "metadata": {},
   "outputs": [
    {
     "data": {
      "text/plain": [
       "6         INDIGNONS NOUS NOUVELLE AQUITAINE 10 SEPTEMBRE\n",
       "7         INDIGNONS NOUS NOUVELLE AQUITAINE 10 SEPTEMBRE\n",
       "8         INDIGNONS NOUS NOUVELLE AQUITAINE 10 SEPTEMBRE\n",
       "9         INDIGNONS NOUS NOUVELLE AQUITAINE 10 SEPTEMBRE\n",
       "10        INDIGNONS NOUS NOUVELLE AQUITAINE 10 SEPTEMBRE\n",
       "                               ...                      \n",
       "313745                             Indignons-nous Cholet\n",
       "313746                             Indignons-nous Cholet\n",
       "313747                             Indignons-nous Cholet\n",
       "313748                      Indignons nous 71500 Louhans\n",
       "313751                      Indignons nous 71500 Louhans\n",
       "Name: chat_name, Length: 241796, dtype: object"
      ]
     },
     "execution_count": 103,
     "metadata": {},
     "output_type": "execute_result"
    }
   ],
   "source": [
    "data[\"chat_name\"]"
   ]
  },
  {
   "cell_type": "code",
   "execution_count": 55,
   "id": "e8360bd4",
   "metadata": {},
   "outputs": [
    {
     "name": "stdout",
     "output_type": "stream",
     "text": [
      "📊 Statistiques descriptives :\n",
      "- Date du premier message : 2025-07-24 09:08:11+00:00\n",
      "- Date du dernier message : 2025-09-18 17:28:45+00:00\n",
      "- Nombre total de messages : 313292\n",
      "\n",
      "- Fréquence de messages par jour :\n",
      "date\n",
      "2025-07-25       13\n",
      "2025-07-26       39\n",
      "2025-07-27      492\n",
      "2025-07-28      295\n",
      "2025-07-29      770\n",
      "2025-07-30      874\n",
      "2025-07-31      606\n",
      "2025-08-01      280\n",
      "2025-08-02      212\n",
      "2025-08-03      638\n",
      "2025-08-04      416\n",
      "2025-08-05      444\n",
      "2025-08-06      492\n",
      "2025-08-07      522\n",
      "2025-08-08      400\n",
      "2025-08-09      311\n",
      "2025-08-10      293\n",
      "2025-08-11      372\n",
      "2025-08-12      431\n",
      "2025-08-13      474\n",
      "2025-08-14      684\n",
      "2025-08-15      765\n",
      "2025-08-16      681\n",
      "2025-08-17      947\n",
      "2025-08-18      673\n",
      "2025-08-19      937\n",
      "2025-08-20     1071\n",
      "2025-08-21     1256\n",
      "2025-08-22     1063\n",
      "2025-08-23     1061\n",
      "2025-08-24     1339\n",
      "2025-08-25     1637\n",
      "2025-08-26     1443\n",
      "2025-08-27     1599\n",
      "2025-08-28     1670\n",
      "2025-08-29     2024\n",
      "2025-08-30     1477\n",
      "2025-08-31     1469\n",
      "2025-09-01     2023\n",
      "2025-09-02     2292\n",
      "2025-09-03     2676\n",
      "2025-09-04     2729\n",
      "2025-09-05     2237\n",
      "2025-09-06     1805\n",
      "2025-09-07     2080\n",
      "2025-09-08     3329\n",
      "2025-09-09     5036\n",
      "2025-09-10    11646\n",
      "2025-09-11     5844\n",
      "2025-09-12     4249\n",
      "2025-09-13     2999\n",
      "2025-09-14     2647\n",
      "2025-09-15     2153\n",
      "2025-09-16     1967\n",
      "2025-09-17     2316\n",
      "2025-09-18     1229\n",
      "dtype: int64\n"
     ]
    }
   ],
   "source": [
    "data[\"date\"] = pd.to_datetime(data[\"date\"])\n",
    "data_filtered = data[data[\"date\"] >= \"2025-06-01\"]\n",
    "first_date = data_filtered[\"date\"].min()\n",
    "last_date = data_filtered[\"date\"].max()\n",
    "n_messages = data_filtered.shape[0]\n",
    "\n",
    "# Fréquence de messages par jour\n",
    "freq = data_filtered.groupby([\"date\", \"chat_name\"]).size().reset_index(name=\"count\")\n",
    "\n",
    "# Stats descriptives\n",
    "print(\"📊 Statistiques descriptives :\")\n",
    "print(f\"- Date du premier message : {first_date}\")\n",
    "print(f\"- Date du dernier message : {last_date}\")\n",
    "print(f\"- Nombre total de messages : {n_messages}\")\n",
    "print(\"\\n- Fréquence de messages par jour :\")\n",
    "print(freq_per_day)  # n’affiche que les 5 premiers jours\n"
   ]
  },
  {
   "cell_type": "code",
   "execution_count": 84,
   "id": "936c46d9",
   "metadata": {},
   "outputs": [],
   "source": [
    "messages_per_user = data1.groupby('sender_id').size().sort_values(ascending=False)"
   ]
  },
  {
   "cell_type": "code",
   "execution_count": 82,
   "id": "bff38d9f",
   "metadata": {},
   "outputs": [],
   "source": [
    "data1 = pd.read_csv(\"all_merged_messages.csv\", dtype={'sender_id': str, 'message_id': str})\n"
   ]
  },
  {
   "cell_type": "code",
   "execution_count": 78,
   "id": "3cf78d76",
   "metadata": {},
   "outputs": [
    {
     "data": {
      "text/plain": [
       "Int64Index([1192879456, -2147483648, 57521972, -2147483648, -2147483648], dtype='int64', name='sender_id')"
      ]
     },
     "execution_count": 78,
     "metadata": {},
     "output_type": "execute_result"
    }
   ],
   "source": [
    "messages_per_user.head().index.astype(\"int\")"
   ]
  },
  {
   "cell_type": "code",
   "execution_count": 90,
   "id": "2a23bc6d",
   "metadata": {},
   "outputs": [
    {
     "data": {
      "text/plain": [
       "'57521972.0'"
      ]
     },
     "execution_count": 90,
     "metadata": {},
     "output_type": "execute_result"
    }
   ],
   "source": [
    "messages_per_user.head().index[0]"
   ]
  },
  {
   "cell_type": "code",
   "execution_count": 91,
   "id": "71dab6fb",
   "metadata": {},
   "outputs": [],
   "source": [
    "top_user = messages_per_user.head().index[0]"
   ]
  },
  {
   "cell_type": "code",
   "execution_count": 99,
   "id": "5e8566b0",
   "metadata": {},
   "outputs": [],
   "source": [
    "user_messages = data1[data1['sender_id'] == top_user]"
   ]
  },
  {
   "cell_type": "code",
   "execution_count": 100,
   "id": "78dda553",
   "metadata": {},
   "outputs": [
    {
     "data": {
      "text/plain": [
       "'57521972.0'"
      ]
     },
     "execution_count": 100,
     "metadata": {},
     "output_type": "execute_result"
    }
   ],
   "source": [
    "top_user"
   ]
  },
  {
   "cell_type": "code",
   "execution_count": 105,
   "id": "d88dbec2",
   "metadata": {},
   "outputs": [
    {
     "data": {
      "image/png": "[encoded data removed]",
      "text/plain": [
       "<Figure size 864x432 with 1 Axes>"
      ]
     },
     "metadata": {
      "needs_background": "light"
     },
     "output_type": "display_data"
    }
   ],
   "source": [
    "import pandas as pd\n",
    "import seaborn as sns\n",
    "import matplotlib.pyplot as plt\n",
    "\n",
    "# Grouper par jour et channel\n",
    "data_filtered['day'] = data_filtered['date'].dt.date\n",
    "freq = data_filtered.groupby(['day', 'chat_name']).size().reset_index(name='count')\n",
    "\n",
    "# Créer un index complet de dates pour chaque channel\n",
    "all_days = pd.date_range(start=freq['day'].min(), end=freq['day'].max())\n",
    "channels = freq['chat_name'].unique()\n",
    "full_index = pd.MultiIndex.from_product([all_days, channels], names=['day', 'chat_name'])\n",
    "freq = freq.set_index(['day','chat_name']).reindex(full_index, fill_value=0).reset_index()\n",
    "\n",
    "top_channels = freq.groupby('chat_name')['count'].sum().sort_values(ascending=False).head(5).index\n",
    "\n",
    "# Plot\n",
    "plt.figure(figsize=(12,6))\n",
    "sns.lineplot(data=freq, x='day', y='count', hue='chat_name', legend = False)\n",
    "plt.xticks(rotation=45)\n",
    "plt.ylabel(\"Nombre de messages\")\n",
    "plt.xlabel(\"Date\")\n",
    "plt.title(\"Fréquence quotidienne des messages par channel\")\n",
    "plt.tight_layout()\n",
    "plt.show()\n"
   ]
  },
  {
   "cell_type": "code",
   "execution_count": 106,
   "id": "f3274110",
   "metadata": {},
   "outputs": [
    {
     "name": "stdout",
     "output_type": "stream",
     "text": [
      "Index(['INDIGNONS NOUS NOUVELLE AQUITAINE 10 SEPTEMBRE', 'PARIS ET ALENTOURS',\n",
      "       '10S25 - Lyon', 'INDIGNONS NOUS BRETAGNE 10 Septembre',\n",
      "       'INDIGNONS NOUS Puy-de-Dôme (63) 10 septembre'],\n",
      "      dtype='object', name='chat_name')\n"
     ]
    }
   ],
   "source": [
    "print(top_channels)"
   ]
  },
  {
   "cell_type": "markdown",
   "id": "23a2dbf2-81c8-4e09-8aa7-06435ea9e82c",
   "metadata": {},
   "source": [
    " #### Applications des fonctions créées tout à l'heure "
   ]
  },
  {
   "cell_type": "code",
   "execution_count": 6,
   "id": "446e7aad-2d17-4a59-b5c3-946cead1eee6",
   "metadata": {},
   "outputs": [],
   "source": [
    "data[\"clean\"] = data[\"text\"].apply(clean_text)\n",
    "data[\"clean_stopwords\"] = data[\"clean\"].apply(remove_stopwords)"
   ]
  },
  {
   "cell_type": "code",
   "execution_count": 125,
   "id": "65baf0e5-636b-45ec-a375-7ee8728940de",
   "metadata": {},
   "outputs": [
    {
     "name": "stdout",
     "output_type": "stream",
     "text": [
      "[('ag', 24766), ('mouvement', 21092), ('septembre', 21088), ('groupe', 20990), ('actions', 16557), ('personnes', 15414), ('place', 14531), ('monde', 14367), ('point', 11949), ('demain', 11017), ('action', 10792), ('pense', 9363), ('déjà', 9247), ('grève', 8386), ('temps', 8357), ('voir', 8125), ('france', 7912), ('telegram', 7711), ('lieu', 7702), ('personne', 7648)]\n"
     ]
    }
   ],
   "source": [
    "from collections import Counter\n",
    "\n",
    "all_words = \" \".join(data[\"clean_stopwords\"]).split()\n",
    "counter = Counter(all_words)\n",
    "\n",
    "# 20 mots les plus fréquents\n",
    "print(counter.most_common(20))\n"
   ]
  },
  {
   "cell_type": "code",
   "execution_count": 107,
   "id": "f87840ae",
   "metadata": {},
   "outputs": [
    {
     "name": "stdout",
     "output_type": "stream",
     "text": [
      "Requirement already satisfied: pillow in c:\\users\\admin\\anaconda3\\lib\\site-packages (8.2.0)\n",
      "Collecting pillow\n",
      "  Downloading pillow-10.4.0-cp38-cp38-win_amd64.whl (2.6 MB)\n",
      "Installing collected packages: pillow\n",
      "  Attempting uninstall: pillow\n",
      "    Found existing installation: Pillow 8.2.0\n",
      "    Uninstalling Pillow-8.2.0:\n",
      "      Successfully uninstalled Pillow-8.2.0\n",
      "Note: you may need to restart the kernel to use updated packages.\n"
     ]
    },
    {
     "name": "stderr",
     "output_type": "stream",
     "text": [
      "ERROR: Could not install packages due to an OSError: [WinError 5] Accès refusé: 'C:\\\\Users\\\\Admin\\\\anaconda3\\\\Lib\\\\site-packages\\\\~il\\\\_imaging.cp38-win_amd64.pyd'\n",
      "Consider using the `--user` option or check the permissions.\n",
      "\n"
     ]
    }
   ],
   "source": [
    "pip install --upgrade pillow\n"
   ]
  },
  {
   "cell_type": "markdown",
   "id": "7927aa84-f6cc-4c03-a90b-4eb2eb33ff4a",
   "metadata": {},
   "source": [
    "#### On gère les lignes qui n'ont que très peu de mots (souvent des non-sens comme \"jzzjz\")"
   ]
  },
  {
   "cell_type": "code",
   "execution_count": 126,
   "id": "e0af6def-5f0c-493e-8db0-961577e55629",
   "metadata": {},
   "outputs": [],
   "source": [
    "data = data[data[\"clean_stopwords\"].str.split().str.len() >= 3].copy()"
   ]
  },
  {
   "cell_type": "markdown",
   "id": "7612b0f8-a8ca-499e-8238-305218c55c7c",
   "metadata": {},
   "source": [
    "## Début de l'analyse du texte"
   ]
  },
  {
   "cell_type": "markdown",
   "id": "814b085f-4870-48d8-85c6-896f6beb2dff",
   "metadata": {},
   "source": [
    "## Ici on combine TfIDF à LDA (Latent Dirichlet Allocation) \n",
    "TfIDF est une méthode de vectorisation, le texte étant par définition une suite de caractères, il faut trouver un moyen de le numériser tout en gardant le contexte et la fréquence d'apparitions des termes. TfIDF prend un mot dans un Document( pour nous un message = un Document) et retourne sa fréquence dans le corpus suivant la fonction : $$ Tf_{ij} = \\frac{f_{t,d}}{\\sum_{t'\\in d}f_{t',d}}$$ où $f_{t,d}$ correspond à la fréquence d'apparition du mot $t$ dans le document $d$. La fréquence inverse est donnée par $$Idf_i = log(\\frac{|D|}{|d, t_i \\in d|}), \\text{avec |D| le nombre total de messages}$$. Au final TfIDF est donnée par $$ TfIDF_{ij} = Tf_{ij}\\cdot Idf_i$$"
   ]
  },
  {
   "cell_type": "markdown",
   "id": "1610e298-5f94-457d-acf0-8b0d20249fc8",
   "metadata": {},
   "source": [
    "#### LDA\n",
    "L'algorithme LDA (Latent Dirichlet Allocation) permet d'analyser un corpus de document et permet de faire de la classification rapidement. L'algorithme divise en \"topics\" le document et assigne à chaque mot un topic. (Voir le papier original pour l'implémentation, je n'ai pas eu le temps de regarder !)"
   ]
  },
  {
   "cell_type": "code",
   "execution_count": 7,
   "id": "d39796f5-06a8-4018-b584-2f9979026e6d",
   "metadata": {},
   "outputs": [
    {
     "ename": "AttributeError",
     "evalue": "'TfidfVectorizer' object has no attribute 'get_feature_names_out'",
     "output_type": "error",
     "traceback": [
      "\u001b[1;31m---------------------------------------------------------------------------\u001b[0m",
      "\u001b[1;31mAttributeError\u001b[0m                            Traceback (most recent call last)",
      "\u001b[1;32m<ipython-input-7-5bb0fb67080c>\u001b[0m in \u001b[0;36m<module>\u001b[1;34m\u001b[0m\n\u001b[0;32m      8\u001b[0m \u001b[0mvectorizer\u001b[0m \u001b[1;33m=\u001b[0m \u001b[0mTfidfVectorizer\u001b[0m\u001b[1;33m(\u001b[0m\u001b[0mmax_df\u001b[0m\u001b[1;33m=\u001b[0m\u001b[1;36m0.9\u001b[0m\u001b[1;33m,\u001b[0m \u001b[0mmin_df\u001b[0m\u001b[1;33m=\u001b[0m\u001b[1;36m5\u001b[0m\u001b[1;33m)\u001b[0m \u001b[1;31m#les paramètres permettent de supprimer des termes trop/pas assez fréquents de l'analyse\u001b[0m\u001b[1;33m\u001b[0m\u001b[1;33m\u001b[0m\u001b[0m\n\u001b[0;32m      9\u001b[0m \u001b[0mX\u001b[0m \u001b[1;33m=\u001b[0m \u001b[0mvectorizer\u001b[0m\u001b[1;33m.\u001b[0m\u001b[0mfit_transform\u001b[0m\u001b[1;33m(\u001b[0m\u001b[0mtexts\u001b[0m\u001b[1;33m)\u001b[0m\u001b[1;33m\u001b[0m\u001b[1;33m\u001b[0m\u001b[0m\n\u001b[1;32m---> 10\u001b[1;33m \u001b[0mfeature_names\u001b[0m \u001b[1;33m=\u001b[0m \u001b[0mvectorizer\u001b[0m\u001b[1;33m.\u001b[0m\u001b[0mget_feature_names_out\u001b[0m\u001b[1;33m(\u001b[0m\u001b[1;33m)\u001b[0m\u001b[1;33m\u001b[0m\u001b[1;33m\u001b[0m\u001b[0m\n\u001b[0m\u001b[0;32m     11\u001b[0m \u001b[1;33m\u001b[0m\u001b[0m\n\u001b[0;32m     12\u001b[0m \u001b[1;31m# =========================\u001b[0m\u001b[1;33m\u001b[0m\u001b[1;33m\u001b[0m\u001b[1;33m\u001b[0m\u001b[0m\n",
      "\u001b[1;31mAttributeError\u001b[0m: 'TfidfVectorizer' object has no attribute 'get_feature_names_out'"
     ]
    }
   ],
   "source": [
    "from sklearn.feature_extraction.text import TfidfVectorizer\n",
    "from sklearn.decomposition import LatentDirichletAllocation\n",
    "from wordcloud import WordCloud\n",
    "import matplotlib.pyplot as plt\n",
    "\n",
    "texts = data['clean_stopwords'].dropna().astype(str) #remove NAs\n",
    "\n",
    "vectorizer = TfidfVectorizer(max_df=0.9, min_df=5) #les paramètres permettent de supprimer des termes trop/pas assez fréquents de l'analyse\n",
    "X = vectorizer.fit_transform(texts)\n",
    "feature_names = vectorizer.get_feature_names_out()\n",
    "\n",
    "# =========================\n",
    "#  Modèle LDA\n",
    "# =========================\n",
    "n_topics = 3\n",
    "lda = LatentDirichletAllocation(n_components=n_topics, random_state=42)\n",
    "lda.fit(X)\n",
    "\n",
    "# =========================\n",
    "# =========================\n",
    "no_top_words = 10\n",
    "for topic_idx, topic in enumerate(lda.components_):\n",
    "    print(f\"\\nTopic {topic_idx}:\")\n",
    "    print(\" \".join([feature_names[i] for i in topic.argsort()[:-no_top_words - 1:-1]]))\n",
    "\n",
    "# =========================\n",
    "# =========================\n",
    "topic_values = lda.transform(X)\n",
    "data['dominant_topic'] = topic_values.argmax(axis=1)\n",
    "\n",
    "# =========================\n",
    "#  WordCloud par topic\n",
    "# =========================\n",
    "for topic_idx, topic in enumerate(lda.components_):\n",
    "    topic_words = {feature_names[i]: topic[i] for i in topic.argsort()[:-50 - 1:-1]}  # top 50 mots\n",
    "    wc = WordCloud(width=800, height=400, background_color='white').generate_from_frequencies(topic_words)\n",
    "\n",
    "    plt.figure(figsize=(10,5))\n",
    "    plt.imshow(wc, interpolation='bilinear')\n",
    "    plt.axis('off')\n",
    "    plt.title(f\"WordCloud Topic {topic_idx}\")\n",
    "    plt.show()\n"
   ]
  },
  {
   "cell_type": "code",
   "execution_count": 130,
   "id": "0e35577e",
   "metadata": {},
   "outputs": [
    {
     "name": "stdout",
     "output_type": "stream",
     "text": [
      "Collecting pyLDAvis\n",
      "  Using cached pyLDAvis-3.4.0-py3-none-any.whl (2.6 MB)\n",
      "Requirement already satisfied: scipy in c:\\users\\admin\\anaconda3\\lib\\site-packages (from pyLDAvis) (1.6.2)\n",
      "Requirement already satisfied: setuptools in c:\\users\\admin\\anaconda3\\lib\\site-packages (from pyLDAvis) (52.0.0.post20210125)\n",
      "Requirement already satisfied: numexpr in c:\\users\\admin\\anaconda3\\lib\\site-packages (from pyLDAvis) (2.7.3)\n",
      "Requirement already satisfied: numpy>=1.22.0 in c:\\users\\admin\\anaconda3\\lib\\site-packages (from pyLDAvis) (1.22.4)\n",
      "Requirement already satisfied: scikit-learn>=1.0.0 in c:\\users\\admin\\anaconda3\\lib\\site-packages (from pyLDAvis) (1.3.2)\n",
      "Collecting funcy\n",
      "  Using cached funcy-2.0-py2.py3-none-any.whl (30 kB)\n",
      "Requirement already satisfied: joblib>=1.2.0 in c:\\users\\admin\\anaconda3\\lib\\site-packages (from pyLDAvis) (1.4.2)\n",
      "Collecting pandas>=1.3.4\n",
      "  Using cached pandas-2.0.3-cp38-cp38-win_amd64.whl (10.8 MB)\n",
      "Collecting gensim\n",
      "  Using cached gensim-4.3.3-cp38-cp38-win_amd64.whl (24.0 MB)\n",
      "Requirement already satisfied: jinja2 in c:\\users\\admin\\anaconda3\\lib\\site-packages (from pyLDAvis) (2.11.3)\n",
      "Collecting python-dateutil>=2.8.2\n",
      "  Using cached python_dateutil-2.9.0.post0-py2.py3-none-any.whl (229 kB)\n",
      "Requirement already satisfied: pytz>=2020.1 in c:\\users\\admin\\anaconda3\\lib\\site-packages (from pandas>=1.3.4->pyLDAvis) (2021.1)\n",
      "Collecting tzdata>=2022.1\n",
      "  Using cached tzdata-2025.2-py2.py3-none-any.whl (347 kB)\n",
      "Requirement already satisfied: six>=1.5 in c:\\users\\admin\\anaconda3\\lib\\site-packages (from python-dateutil>=2.8.2->pandas>=1.3.4->pyLDAvis) (1.15.0)\n",
      "Requirement already satisfied: threadpoolctl>=2.0.0 in c:\\users\\admin\\anaconda3\\lib\\site-packages (from scikit-learn>=1.0.0->pyLDAvis) (2.1.0)\n",
      "Collecting smart-open>=1.8.1\n",
      "  Using cached smart_open-7.3.1-py3-none-any.whl (61 kB)\n",
      "Collecting scipy\n",
      "  Using cached scipy-1.10.1-cp38-cp38-win_amd64.whl (42.2 MB)\n",
      "Requirement already satisfied: wrapt in c:\\users\\admin\\anaconda3\\lib\\site-packages (from smart-open>=1.8.1->gensim->pyLDAvis) (1.12.1)\n",
      "Requirement already satisfied: MarkupSafe>=0.23 in c:\\users\\admin\\anaconda3\\lib\\site-packages (from jinja2->pyLDAvis) (1.1.1)\n",
      "Installing collected packages: tzdata, smart-open, scipy, python-dateutil, pandas, gensim, funcy, pyLDAvis\n",
      "Successfully installed funcy-2.0 gensim-4.3.3 pandas-2.0.3 pyLDAvis-3.4.0 python-dateutil-2.9.0.post0 scipy-1.10.1 smart-open-7.3.1 tzdata-2025.2\n"
     ]
    },
    {
     "name": "stderr",
     "output_type": "stream",
     "text": [
      "ERROR: pip's dependency resolver does not currently take into account all the packages that are installed. This behaviour is the source of the following dependency conflicts.\n",
      "conda-repo-cli 1.0.4 requires pathlib, which is not installed.\n"
     ]
    }
   ],
   "source": [
    "!pip install --user pyLDAvis"
   ]
  },
  {
   "cell_type": "code",
   "execution_count": 134,
   "id": "fc51d4c1",
   "metadata": {},
   "outputs": [
    {
     "name": "stderr",
     "output_type": "stream",
     "text": [
      "C:\\Users\\Admin\\anaconda3\\lib\\site-packages\\ipykernel\\ipkernel.py:287: DeprecationWarning: `should_run_async` will not call `transform_cell` automatically in the future. Please pass the result to `transformed_cell` argument and any exception that happen during thetransform in `preprocessing_exc_tuple` in IPython 7.17 and above.\n",
      "  and should_run_async(code)\n"
     ]
    },
    {
     "ename": "AttributeError",
     "evalue": "'TfidfVectorizer' object has no attribute 'get_feature_names'",
     "output_type": "error",
     "traceback": [
      "\u001b[1;31m---------------------------------------------------------------------------\u001b[0m",
      "\u001b[1;31mAttributeError\u001b[0m                            Traceback (most recent call last)",
      "\u001b[1;32m<ipython-input-134-6adfb777410e>\u001b[0m in \u001b[0;36m<module>\u001b[1;34m\u001b[0m\n\u001b[0;32m      4\u001b[0m \u001b[1;31m# Préparer la visualisation\u001b[0m\u001b[1;33m\u001b[0m\u001b[1;33m\u001b[0m\u001b[1;33m\u001b[0m\u001b[0m\n\u001b[0;32m      5\u001b[0m \u001b[0mpyLDAvis\u001b[0m\u001b[1;33m.\u001b[0m\u001b[0menable_notebook\u001b[0m\u001b[1;33m(\u001b[0m\u001b[1;33m)\u001b[0m  \u001b[1;31m# pour Jupyter/Colab\u001b[0m\u001b[1;33m\u001b[0m\u001b[1;33m\u001b[0m\u001b[0m\n\u001b[1;32m----> 6\u001b[1;33m \u001b[0mpanel\u001b[0m \u001b[1;33m=\u001b[0m \u001b[0mpyLDAvis\u001b[0m\u001b[1;33m.\u001b[0m\u001b[0msklearn\u001b[0m\u001b[1;33m.\u001b[0m\u001b[0mprepare\u001b[0m\u001b[1;33m(\u001b[0m\u001b[0mlda\u001b[0m\u001b[1;33m,\u001b[0m \u001b[0mX\u001b[0m\u001b[1;33m,\u001b[0m \u001b[0mvectorizer\u001b[0m\u001b[1;33m,\u001b[0m \u001b[0mmds\u001b[0m\u001b[1;33m=\u001b[0m\u001b[1;34m'tsne'\u001b[0m\u001b[1;33m)\u001b[0m  \u001b[1;31m# mds='tsne' pour mieux répartir les topics\u001b[0m\u001b[1;33m\u001b[0m\u001b[1;33m\u001b[0m\u001b[0m\n\u001b[0m\u001b[0;32m      7\u001b[0m \u001b[1;33m\u001b[0m\u001b[0m\n\u001b[0;32m      8\u001b[0m \u001b[1;31m# Afficher la visualisation interactive\u001b[0m\u001b[1;33m\u001b[0m\u001b[1;33m\u001b[0m\u001b[1;33m\u001b[0m\u001b[0m\n",
      "\u001b[1;32m~\\AppData\\Roaming\\Python\\Python38\\site-packages\\pyLDAvis\\sklearn.py\u001b[0m in \u001b[0;36mprepare\u001b[1;34m(lda_model, dtm, vectorizer, **kwargs)\u001b[0m\n\u001b[0;32m     92\u001b[0m     \u001b[0mSee\u001b[0m\u001b[0;31m \u001b[0m\u001b[0;31m`\u001b[0m\u001b[0mpyLDAvis\u001b[0m\u001b[1;33m.\u001b[0m\u001b[0mprepare\u001b[0m\u001b[0;31m`\u001b[0m \u001b[1;32mfor\u001b[0m \u001b[1;33m**\u001b[0m\u001b[0mkwargs\u001b[0m\u001b[1;33m.\u001b[0m\u001b[1;33m\u001b[0m\u001b[1;33m\u001b[0m\u001b[0m\n\u001b[0;32m     93\u001b[0m     \"\"\"\n\u001b[1;32m---> 94\u001b[1;33m     \u001b[0mopts\u001b[0m \u001b[1;33m=\u001b[0m \u001b[0mfp\u001b[0m\u001b[1;33m.\u001b[0m\u001b[0mmerge\u001b[0m\u001b[1;33m(\u001b[0m\u001b[0m_extract_data\u001b[0m\u001b[1;33m(\u001b[0m\u001b[0mlda_model\u001b[0m\u001b[1;33m,\u001b[0m \u001b[0mdtm\u001b[0m\u001b[1;33m,\u001b[0m \u001b[0mvectorizer\u001b[0m\u001b[1;33m)\u001b[0m\u001b[1;33m,\u001b[0m \u001b[0mkwargs\u001b[0m\u001b[1;33m)\u001b[0m\u001b[1;33m\u001b[0m\u001b[1;33m\u001b[0m\u001b[0m\n\u001b[0m\u001b[0;32m     95\u001b[0m     \u001b[1;32mreturn\u001b[0m \u001b[0mpyLDAvis\u001b[0m\u001b[1;33m.\u001b[0m\u001b[0mprepare\u001b[0m\u001b[1;33m(\u001b[0m\u001b[1;33m**\u001b[0m\u001b[0mopts\u001b[0m\u001b[1;33m)\u001b[0m\u001b[1;33m\u001b[0m\u001b[1;33m\u001b[0m\u001b[0m\n",
      "\u001b[1;32m~\\AppData\\Roaming\\Python\\Python38\\site-packages\\pyLDAvis\\sklearn.py\u001b[0m in \u001b[0;36m_extract_data\u001b[1;34m(lda_model, dtm, vectorizer)\u001b[0m\n\u001b[0;32m     36\u001b[0m \u001b[1;33m\u001b[0m\u001b[0m\n\u001b[0;32m     37\u001b[0m \u001b[1;32mdef\u001b[0m \u001b[0m_extract_data\u001b[0m\u001b[1;33m(\u001b[0m\u001b[0mlda_model\u001b[0m\u001b[1;33m,\u001b[0m \u001b[0mdtm\u001b[0m\u001b[1;33m,\u001b[0m \u001b[0mvectorizer\u001b[0m\u001b[1;33m)\u001b[0m\u001b[1;33m:\u001b[0m\u001b[1;33m\u001b[0m\u001b[1;33m\u001b[0m\u001b[0m\n\u001b[1;32m---> 38\u001b[1;33m     \u001b[0mvocab\u001b[0m \u001b[1;33m=\u001b[0m \u001b[0m_get_vocab\u001b[0m\u001b[1;33m(\u001b[0m\u001b[0mvectorizer\u001b[0m\u001b[1;33m)\u001b[0m\u001b[1;33m\u001b[0m\u001b[1;33m\u001b[0m\u001b[0m\n\u001b[0m\u001b[0;32m     39\u001b[0m     \u001b[0mdoc_lengths\u001b[0m \u001b[1;33m=\u001b[0m \u001b[0m_get_doc_lengths\u001b[0m\u001b[1;33m(\u001b[0m\u001b[0mdtm\u001b[0m\u001b[1;33m)\u001b[0m\u001b[1;33m\u001b[0m\u001b[1;33m\u001b[0m\u001b[0m\n\u001b[0;32m     40\u001b[0m     \u001b[0mterm_freqs\u001b[0m \u001b[1;33m=\u001b[0m \u001b[0m_get_term_freqs\u001b[0m\u001b[1;33m(\u001b[0m\u001b[0mdtm\u001b[0m\u001b[1;33m)\u001b[0m\u001b[1;33m\u001b[0m\u001b[1;33m\u001b[0m\u001b[0m\n",
      "\u001b[1;32m~\\AppData\\Roaming\\Python\\Python38\\site-packages\\pyLDAvis\\sklearn.py\u001b[0m in \u001b[0;36m_get_vocab\u001b[1;34m(vectorizer)\u001b[0m\n\u001b[0;32m     18\u001b[0m \u001b[1;33m\u001b[0m\u001b[0m\n\u001b[0;32m     19\u001b[0m \u001b[1;32mdef\u001b[0m \u001b[0m_get_vocab\u001b[0m\u001b[1;33m(\u001b[0m\u001b[0mvectorizer\u001b[0m\u001b[1;33m)\u001b[0m\u001b[1;33m:\u001b[0m\u001b[1;33m\u001b[0m\u001b[1;33m\u001b[0m\u001b[0m\n\u001b[1;32m---> 20\u001b[1;33m     \u001b[1;32mreturn\u001b[0m \u001b[0mvectorizer\u001b[0m\u001b[1;33m.\u001b[0m\u001b[0mget_feature_names\u001b[0m\u001b[1;33m(\u001b[0m\u001b[1;33m)\u001b[0m\u001b[1;33m\u001b[0m\u001b[1;33m\u001b[0m\u001b[0m\n\u001b[0m\u001b[0;32m     21\u001b[0m \u001b[1;33m\u001b[0m\u001b[0m\n\u001b[0;32m     22\u001b[0m \u001b[1;33m\u001b[0m\u001b[0m\n",
      "\u001b[1;31mAttributeError\u001b[0m: 'TfidfVectorizer' object has no attribute 'get_feature_names'"
     ]
    }
   ],
   "source": [
    "import pyLDAvis\n",
    "import pyLDAvis.sklearn\n",
    "\n",
    "# Préparer la visualisation\n",
    "pyLDAvis.enable_notebook()  # pour Jupyter/Colab\n",
    "panel = pyLDAvis.sklearn.prepare(lda, X, vectorizer, mds='tsne')  # mds='tsne' pour mieux répartir les topics\n",
    "\n",
    "# Afficher la visualisation interactive\n",
    "panel\n"
   ]
  },
  {
   "cell_type": "code",
   "execution_count": 133,
   "id": "6e9d8eba",
   "metadata": {},
   "outputs": [
    {
     "name": "stderr",
     "output_type": "stream",
     "text": [
      "C:\\Users\\Admin\\anaconda3\\lib\\site-packages\\ipykernel\\ipkernel.py:287: DeprecationWarning: `should_run_async` will not call `transform_cell` automatically in the future. Please pass the result to `transformed_cell` argument and any exception that happen during thetransform in `preprocessing_exc_tuple` in IPython 7.17 and above.\n",
      "  and should_run_async(code)\n"
     ]
    },
    {
     "name": "stdout",
     "output_type": "stream",
     "text": [
      "Requirement already satisfied: scikit-learn==0.24.2 in c:\\users\\admin\\anaconda3\\lib\\site-packages (0.24.2)\n",
      "Requirement already satisfied: numpy>=1.13.3 in c:\\users\\admin\\anaconda3\\lib\\site-packages (from scikit-learn==0.24.2) (1.22.4)\n",
      "Requirement already satisfied: scipy>=0.19.1 in c:\\users\\admin\\appdata\\roaming\\python\\python38\\site-packages (from scikit-learn==0.24.2) (1.10.1)\n",
      "Requirement already satisfied: threadpoolctl>=2.0.0 in c:\\users\\admin\\anaconda3\\lib\\site-packages (from scikit-learn==0.24.2) (2.1.0)\n",
      "Requirement already satisfied: joblib>=0.11 in c:\\users\\admin\\anaconda3\\lib\\site-packages (from scikit-learn==0.24.2) (1.4.2)\n",
      "Note: you may need to restart the kernel to use updated packages.\n"
     ]
    }
   ],
   "source": [
    "pip install --user scikit-learn==0.24.2\n"
   ]
  },
  {
   "cell_type": "markdown",
   "id": "5d303338-1717-4770-870b-f3dccad666c2",
   "metadata": {},
   "source": [
    "## Embedding\n",
    "C'est une autre méthode de vectorisation, qui garde le contexte et le sens des mots, mais requiert bien plus de calculs"
   ]
  },
  {
   "cell_type": "code",
   "execution_count": null,
   "id": "aa0b087c-5c8c-407b-8091-0e4d0c5a6be5",
   "metadata": {},
   "outputs": [],
   "source": [
    "from sentence_transformers import SentenceTransformer\n",
    "from tqdm import tqdm\n",
    "import numpy as np\n",
    "import pyarrow.parquet as pq\n",
    "import pyarrow as pa\n",
    "# -------------------------------\n",
    "# MiniLM est rapide et léger (384 dimensions)\n",
    "model = SentenceTransformer('all-MiniLM-L6-v2')"
   ]
  },
  {
   "cell_type": "code",
   "execution_count": null,
   "id": "58cffdb2-b4a6-40e9-9386-6d28a0d1cf22",
   "metadata": {},
   "outputs": [],
   "source": [
    "# -------------------------------\n",
    "# 4. Calcul des embeddings par batch\n",
    "# -------------------------------\n",
    "batch_size = 5000\n",
    "embeddings = []\n",
    "\n",
    "for start_idx in tqdm(range(0, len(data), batch_size)):\n",
    "    end_idx = min(start_idx + batch_size, len(data))\n",
    "    batch_texts = data['clean'].iloc[start_idx:end_idx].tolist()\n",
    "    batch_embeddings = model.encode(batch_texts, show_progress_bar=False)\n",
    "    embeddings.append(batch_embeddings)\n",
    "\n",
    "# Fusionner tous les batches en un seul array\n",
    "embeddings = np.vstack(embeddings)\n",
    "print(\"Shape des embeddings :\", embeddings.shape)  # (150000, 384)"
   ]
  },
  {
   "cell_type": "code",
   "execution_count": null,
   "id": "945f5ff1-9019-4321-8ed9-a0bee0e60e90",
   "metadata": {},
   "outputs": [],
   "source": [
    "emb_df = pd.concat([data.reset_index(drop=True), pd.DataFrame(embeddings)], axis=1)\n",
    "table = pa.Table.from_pandas(emb_df)\n",
    "pq.write_table(table, \"messages_with_embeddings.parquet\")\n",
    "\n",
    "print(\"Embeddings calculés et stockés avec succès !\")"
   ]
  },
  {
   "cell_type": "markdown",
   "id": "e2511889-6e18-44bb-89d4-8fd6ad8121e4",
   "metadata": {},
   "source": [
    "#### Lire le fichier parquet"
   ]
  },
  {
   "cell_type": "code",
   "execution_count": null,
   "id": "aa2d7268-7711-4f1e-a185-22c026ecbf89",
   "metadata": {},
   "outputs": [],
   "source": [
    "\n",
    "df_emb = pd.read_parquet(\"messages_with_embeddings.parquet\",engine = \"fastparquet\")\n",
    "print(df_emb.head())"
   ]
  },
  {
   "cell_type": "code",
   "execution_count": null,
   "id": "91efcfbf-6a47-4078-998d-b35c0985a527",
   "metadata": {},
   "outputs": [],
   "source": [
    "columns_list = [  #Liste qui contient chaque colonne qui n'est pas une des dimensions du embedding (à faire avant avec pd.col)\n",
    "    \"chat\",\n",
    "    \"chat_name\",\n",
    "    \"message_id\",\n",
    "    \"date\",\n",
    "    \"sender_id\",\n",
    "    \"text\",\n",
    "    \"reply_to\",\n",
    "    \"clean\",\n",
    "    \"clean_stopword\",\n",
    "    \"nb_mots_champ\",\n",
    "    \"somme_mots\",\n",
    "    \"nb_champ_relatif\",\n",
    "    \"clean_no_stop\"\n",
    "]\n",
    "  # adapter selon tes colonnes\n",
    "embedding_columns = df_emb.columns.difference(columns_list)\n",
    "\n",
    "X = df_emb[embedding_columns].values\n",
    "\n",
    "# Normalisation\n",
    "from sklearn.preprocessing import StandardScaler\n",
    "scaler = StandardScaler()\n",
    "X_scaled = scaler.fit_transform(X)\n",
    "\n",
    "## clustering par K-means\n",
    "from sklearn.cluster import KMeans\n",
    "\n",
    "n_clusters = 10  # tu peux ajuster\n",
    "kmeans = KMeans(n_clusters=n_clusters, random_state=42)\n",
    "df_emb['cluster'] = kmeans.fit_predict(X_scaled)\n",
    "\n",
    "print(df_emb[['text', 'cluster']].head())\n",
    "\n"
   ]
  },
  {
   "cell_type": "markdown",
   "id": "9f773671-058d-4979-94a3-28bba9853bec",
   "metadata": {},
   "source": [
    "### Representation graphique du clustering, problème étant que l'on joue avec des données de 380 dimensions.\n",
    "On utilise le package umap"
   ]
  },
  {
   "cell_type": "code",
   "execution_count": null,
   "id": "806f52e4-34bc-4a86-b5d3-fedd4a4070b4",
   "metadata": {},
   "outputs": [],
   "source": [
    "import umap.umap_ as umap\n",
    "\n",
    "reducer = umap.UMAP(n_components=2, random_state=42,unique = True)\n",
    "X_umap = reducer.fit_transform(X_scaled)\n",
    "\n",
    "import matplotlib.pyplot as plt\n",
    "import seaborn as sns\n",
    "\n",
    "reducer = umap.UMAP(n_components=2, random_state=42)\n",
    "X_umap = reducer.fit_transform(X_scaled)\n",
    "\n",
    "df_emb['x'] = X_umap[:,0]\n",
    "df_emb['y'] = X_umap[:,1]\n",
    "\n",
    "plt.figure(figsize=(10,6))\n",
    "sns.scatterplot(data=df_emb, x='x', y='y', hue='cluster', palette='tab10', s=50, alpha=0.8)\n",
    "plt.title(\"Clustering des messages\")\n",
    "plt.show()\n"
   ]
  }
 ],
 "metadata": {
  "kernelspec": {
   "display_name": "Python 3",
   "language": "python",
   "name": "python3"
  },
  "language_info": {
   "codemirror_mode": {
    "name": "ipython",
    "version": 3
   },
   "file_extension": ".py",
   "mimetype": "text/x-python",
   "name": "python",
   "nbconvert_exporter": "python",
   "pygments_lexer": "ipython3",
   "version": "3.8.8"
  }
 },
 "nbformat": 4,
 "nbformat_minor": 5
}
